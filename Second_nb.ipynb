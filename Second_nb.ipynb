{
  "nbformat": 4,
  "nbformat_minor": 0,
  "metadata": {
    "colab": {
      "provenance": [],
      "authorship_tag": "ABX9TyPEoMOrWhnuaXZEV/kfGRKX",
      "include_colab_link": true
    },
    "kernelspec": {
      "name": "python3",
      "display_name": "Python 3"
    },
    "language_info": {
      "name": "python"
    }
  },
  "cells": [
    {
      "cell_type": "markdown",
      "metadata": {
        "id": "view-in-github",
        "colab_type": "text"
      },
      "source": [
        "<a href=\"https://colab.research.google.com/github/MrAsadbey/Data_Science/blob/main/Second_nb.ipynb\" target=\"_parent\"><img src=\"https://colab.research.google.com/assets/colab-badge.svg\" alt=\"Open In Colab\"/></a>"
      ]
    },
    {
      "cell_type": "code",
      "execution_count": null,
      "metadata": {
        "colab": {
          "base_uri": "https://localhost:8080/",
          "height": 35
        },
        "id": "1jtBjUH7gAlZ",
        "outputId": "fbf41327-931b-4840-eb2f-f4cf69b412af"
      },
      "outputs": [
        {
          "output_type": "execute_result",
          "data": {
            "text/plain": [
              "'My name is Olim Olimov. I was born 2005'"
            ],
            "application/vnd.google.colaboratory.intrinsic+json": {
              "type": "string"
            }
          },
          "metadata": {},
          "execution_count": 8
        }
      ],
      "source": [
        "def malumot_topla(name, lastname, brith_year):\n",
        "    \"\"\"Foydalanuvchi haqida ma'lumot to'plovchi funksiya\"\"\"\n",
        "    info = f\"My name is {name} {lastname}. I was born {brith_year}\"\n",
        "    return info\n",
        "\n",
        "malumot_topla('Olim', 'Olimov', 2005)"
      ]
    },
    {
      "cell_type": "code",
      "source": [
        "def toliq_ism_yasa(name, surname, fathers_name=''):\n",
        "    \"\"\"To'liq ism qaytaruvchi funksiya\"\"\"\n",
        "    if fathers_name:\n",
        "        toliq_ism = f\"{name.title()} {fathers_name.title()} {surname.title()}\"\n",
        "    else:\n",
        "        toliq_ism = f\"{name.title()} {surname.title()}\"\n",
        "    return toliq_ism\n",
        "talaba1 = toliq_ism_yasa('vali', 'alijanov', 'bahodirovich')\n",
        "talaba2 = toliq_ism_yasa('hasan', 'dosmatov',)\n",
        "print(talaba1)\n",
        "print(talaba2)"
      ],
      "metadata": {
        "colab": {
          "base_uri": "https://localhost:8080/"
        },
        "id": "iOGGu8fXiHXg",
        "outputId": "5dd8fbff-48b9-4d4b-8157-3dc8bf7d615a"
      },
      "execution_count": null,
      "outputs": [
        {
          "output_type": "stream",
          "name": "stdout",
          "text": [
            "Vali Bahodirovich Alijanov\n",
            "Hasan Dosmatov\n"
          ]
        }
      ]
    }
  ]
}